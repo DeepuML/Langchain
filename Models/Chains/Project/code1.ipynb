{
 "cells": [
  {
   "cell_type": "code",
   "execution_count": 2,
   "id": "8f28b6de",
   "metadata": {},
   "outputs": [
    {
     "data": {
      "text/plain": [
       "True"
      ]
     },
     "execution_count": 2,
     "metadata": {},
     "output_type": "execute_result"
    }
   ],
   "source": [
    "from langchain.chains import LLMChain\n",
    "from dotenv import load_dotenv\n",
    "from langchain.prompts import PromptTemplate\n",
    "from langchain_google_genai import ChatGoogleGenerativeAI\n",
    "\n",
    "load_dotenv()\n"
   ]
  },
  {
   "cell_type": "code",
   "execution_count": 3,
   "id": "998701dd",
   "metadata": {},
   "outputs": [],
   "source": [
    "llm = ChatGoogleGenerativeAI(\n",
    "    model=\"gemini-1.5-flash\",\n",
    "    temperature=0.5,\n",
    "    max_tokens=4096,\n",
    ")\n"
   ]
  },
  {
   "cell_type": "code",
   "execution_count": 4,
   "id": "54eb1c6f",
   "metadata": {},
   "outputs": [],
   "source": [
    "prompt = PromptTemplate(\n",
    "    template =  'Suggest me the sumamry about the  {topic}',\n",
    "    input_variables = ['topic']\n",
    ")"
   ]
  },
  {
   "cell_type": "code",
   "execution_count": 5,
   "id": "a386fe24",
   "metadata": {},
   "outputs": [
    {
     "name": "stderr",
     "output_type": "stream",
     "text": [
      "C:\\Users\\Deepu\\AppData\\Local\\Temp\\ipykernel_10268\\2590390519.py:1: LangChainDeprecationWarning: The class `LLMChain` was deprecated in LangChain 0.1.17 and will be removed in 1.0. Use :meth:`~RunnableSequence, e.g., `prompt | llm`` instead.\n",
      "  chain = LLMChain(llm=llm , prompt = prompt)\n"
     ]
    }
   ],
   "source": [
    "chain = LLMChain(llm=llm , prompt = prompt)"
   ]
  },
  {
   "cell_type": "code",
   "execution_count": 6,
   "id": "08367561",
   "metadata": {},
   "outputs": [],
   "source": [
    "topic = input(\"enter the topic : \")\n"
   ]
  },
  {
   "cell_type": "code",
   "execution_count": 7,
   "id": "415950f2",
   "metadata": {},
   "outputs": [
    {
     "name": "stderr",
     "output_type": "stream",
     "text": [
      "C:\\Users\\Deepu\\AppData\\Local\\Temp\\ipykernel_10268\\3275531524.py:1: LangChainDeprecationWarning: The method `Chain.run` was deprecated in langchain 0.1.0 and will be removed in 1.0. Use :meth:`~invoke` instead.\n",
      "  output = chain.run(topic)\n"
     ]
    }
   ],
   "source": [
    "output = chain.run(topic)"
   ]
  },
  {
   "cell_type": "code",
   "execution_count": 10,
   "id": "22848de1",
   "metadata": {},
   "outputs": [
    {
     "name": "stdout",
     "output_type": "stream",
     "text": [
      "Generated Output is:  RAW, or the Research and Analysis Wing, is India's external intelligence agency.  Its primary function is gathering foreign intelligence, conducting covert operations, and counter-intelligence activities to protect India's national security interests.  While much of its work remains classified, its activities are believed to encompass a wide range, including espionage, counter-terrorism, and influencing foreign policy.  It operates globally and is considered a crucial component of India's national security apparatus.  Its structure and budget are largely secret, contributing to its mystique and the limited public knowledge about its specific operations.\n"
     ]
    }
   ],
   "source": [
    "print(\"Generated Output is: \", output)"
   ]
  },
  {
   "cell_type": "code",
   "execution_count": 3,
   "id": "725d33f3",
   "metadata": {},
   "outputs": [
    {
     "name": "stdout",
     "output_type": "stream",
     "text": [
      "Collecting geopy\n",
      "  Downloading geopy-2.4.1-py3-none-any.whl.metadata (6.8 kB)\n",
      "Collecting geographiclib<3,>=1.52 (from geopy)\n",
      "  Downloading geographiclib-2.0-py3-none-any.whl.metadata (1.4 kB)\n",
      "Downloading geopy-2.4.1-py3-none-any.whl (125 kB)\n",
      "Downloading geographiclib-2.0-py3-none-any.whl (40 kB)\n",
      "Installing collected packages: geographiclib, geopy\n",
      "\n",
      "   -------------------- ------------------- 1/2 [geopy]\n",
      "   ---------------------------------------- 2/2 [geopy]\n",
      "\n",
      "Successfully installed geographiclib-2.0 geopy-2.4.1\n",
      "Note: you may need to restart the kernel to use updated packages.\n"
     ]
    }
   ],
   "source": [
    "pip install geopy"
   ]
  },
  {
   "cell_type": "code",
   "execution_count": 4,
   "id": "1dd1376e",
   "metadata": {},
   "outputs": [
    {
     "name": "stdout",
     "output_type": "stream",
     "text": [
      "Synthetic e-commerce delivery data generated and saved to 'synthetic_ecommerce_delivery_data_large.csv'\n"
     ]
    }
   ],
   "source": [
    "import pandas as pd\n",
    "import random\n",
    "from geopy.distance import great_circle\n",
    "from datetime import datetime, timedelta\n",
    "\n",
    "# Function to generate random delivery locations\n",
    "def generate_random_coordinates(num_locations):\n",
    "    coordinates = []\n",
    "    for _ in range(num_locations):\n",
    "        lat = random.uniform(34.0, 49.384)  # Approximate latitude range for the contiguous US\n",
    "        lon = random.uniform(-118.0, -66.93457)  # Approximate longitude range for the contiguous US\n",
    "        coordinates.append((lat, lon))\n",
    "    return coordinates\n",
    "\n",
    "# Function to get simulated CO2 emission factors (in kg CO2/km)\n",
    "def get_emission_factor(transport_mode):\n",
    "    factors = {\n",
    "        \"truck\": 0.20,\n",
    "        \"van\": 0.15,\n",
    "        \"bicycle\": 0.05,\n",
    "        \"drone\": 0.03\n",
    "    }\n",
    "    return factors.get(transport_mode, 0.10)  # Default to a standard factor if mode not found\n",
    "\n",
    "# Parameters\n",
    "num_orders = 500000  # Increased number of synthetic orders\n",
    "transport_modes = [\"truck\", \"van\", \"bicycle\", \"drone\"]\n",
    "cities = [\"New York\", \"Los Angeles\", \"Chicago\", \"Houston\", \"Phoenix\", \"Philadelphia\", \"San Antonio\", \"San Diego\", \"Dallas\", \"San Jose\"]\n",
    "service_providers = [\"FedEx\", \"UPS\", \"DHL\", \"USPS\", \"Amazon\"]\n",
    "\n",
    "# Generate random delivery locations\n",
    "locations = generate_random_coordinates(num_orders)\n",
    "\n",
    "# Create a DataFrame for orders\n",
    "orders = []\n",
    "for i in range(num_orders):\n",
    "    order_id = f\"ORD-{i+1}\"\n",
    "    package_weight = random.uniform(1, 20)  # Package weight between 1 and 20 kg\n",
    "    transport_mode = random.choice(transport_modes)\n",
    "    delivery_location = locations[i]\n",
    "    \n",
    "    # Calculate distance to a central warehouse location (e.g., a fixed point)\n",
    "    warehouse_location = (37.7749, -122.4194)  # Example: San Francisco, CA\n",
    "    distance = great_circle(warehouse_location, delivery_location).kilometers  # Distance in km\n",
    "\n",
    "    # Calculate CO2 emissions\n",
    "    emission_factor = get_emission_factor(transport_mode)\n",
    "    emissions = distance * package_weight * emission_factor\n",
    "    \n",
    "    # Additional features\n",
    "    order_date = datetime.now() - timedelta(days=random.randint(0, 30))  # Random order date within the last 30 days\n",
    "    delivery_time = random.randint(1, 10)  # Random delivery time between 1 to 10 days\n",
    "    city = random.choice(cities)\n",
    "    service_provider = random.choice(service_providers)\n",
    "    order_value = round(random.uniform(20.0, 200.0), 2)  # Random order value between $20 and $200\n",
    "    fragility_level = random.choice([\"low\", \"medium\", \"high\"])  # Random fragile levels\n",
    "    \n",
    "    orders.append({\n",
    "        \"order_id\": order_id,\n",
    "        \"package_weight_kg\": package_weight,\n",
    "        \"delivery_latitude\": delivery_location[0],\n",
    "        \"delivery_longitude\": delivery_location[1],\n",
    "        \"transport_mode\": transport_mode,\n",
    "        \"distance_km\": distance,\n",
    "        \"CO2_emissions_kg\": emissions,\n",
    "        \"order_date\": order_date.strftime(\"%Y-%m-%d\"),  # Format date as string\n",
    "        \"delivery_time_days\": delivery_time,\n",
    "        \"customer_city\": city,\n",
    "        \"service_provider\": service_provider,\n",
    "        \"order_value_usd\": order_value,\n",
    "        \"fragility_level\": fragility_level\n",
    "    })\n",
    "\n",
    "# Create DataFrame\n",
    "df_orders = pd.DataFrame(orders)\n",
    "\n",
    "# Save to CSV\n",
    "df_orders.to_csv(\"synthetic_ecommerce_delivery_data_large.csv\", index=False)\n",
    "print(\"Synthetic e-commerce delivery data generated and saved to 'synthetic_ecommerce_delivery_data_large.csv'\")"
   ]
  },
  {
   "cell_type": "code",
   "execution_count": null,
   "id": "566f1d27",
   "metadata": {},
   "outputs": [],
   "source": []
  }
 ],
 "metadata": {
  "kernelspec": {
   "display_name": "langchain",
   "language": "python",
   "name": "python3"
  },
  "language_info": {
   "codemirror_mode": {
    "name": "ipython",
    "version": 3
   },
   "file_extension": ".py",
   "mimetype": "text/x-python",
   "name": "python",
   "nbconvert_exporter": "python",
   "pygments_lexer": "ipython3",
   "version": "3.12.11"
  }
 },
 "nbformat": 4,
 "nbformat_minor": 5
}
