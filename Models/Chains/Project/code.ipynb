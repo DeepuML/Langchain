{
 "cells": [
  {
   "cell_type": "code",
   "execution_count": 18,
   "id": "88838090",
   "metadata": {},
   "outputs": [
    {
     "data": {
      "text/plain": [
       "True"
      ]
     },
     "execution_count": 18,
     "metadata": {},
     "output_type": "execute_result"
    }
   ],
   "source": [
    "from langchain_google_genai import ChatGoogleGenerativeAI\n",
    "from dotenv import load_dotenv\n",
    "from langchain_core.prompts import PromptTemplate\n",
    "from langchain_core.output_parsers import StrOutputParser\n",
    "from langchain.prompts import PromptTemplate\n",
    "\n",
    "load_dotenv()\n"
   ]
  },
  {
   "cell_type": "code",
   "execution_count": 19,
   "id": "a79ee1d5",
   "metadata": {},
   "outputs": [],
   "source": [
    "llm = ChatGoogleGenerativeAI(\n",
    "    model=\"gemini-1.5-flash\",\n",
    "    temperature=0.5,\n",
    "    max_tokens=4096,\n",
    ")\n"
   ]
  },
  {
   "cell_type": "code",
   "execution_count": null,
   "id": "836e7809",
   "metadata": {},
   "outputs": [],
   "source": [
    "prompt = PromptTemplate(\n",
    "    template =  'Suggest me the sumamry about the  {topic}',\n",
    "    input_variables = ['topic']\n",
    ")\n"
   ]
  },
  {
   "cell_type": "code",
   "execution_count": 21,
   "id": "ee93f58d",
   "metadata": {},
   "outputs": [],
   "source": [
    "topic = input(\"Enter the topic:  \")"
   ]
  },
  {
   "cell_type": "code",
   "execution_count": 22,
   "id": "3ca5263f",
   "metadata": {},
   "outputs": [],
   "source": [
    "formatted_prompts = prompt.format(topic=topic)"
   ]
  },
  {
   "cell_type": "code",
   "execution_count": 23,
   "id": "43fd1ef3",
   "metadata": {},
   "outputs": [],
   "source": [
    "blog_title = llm.invoke(formatted_prompts)"
   ]
  },
  {
   "cell_type": "code",
   "execution_count": 24,
   "id": "8438e6bd",
   "metadata": {},
   "outputs": [
    {
     "name": "stdout",
     "output_type": "stream",
     "text": [
      "Generated Blog Title:  content='Artificial intelligence (AI) is a broad field encompassing the development of computer systems capable of performing tasks that typically require human intelligence.  These tasks include learning, reasoning, problem-solving, perception, and natural language understanding.  AI systems achieve this through various techniques, including machine learning (where systems learn from data without explicit programming), deep learning (a subset of machine learning using artificial neural networks with multiple layers), and expert systems (which use pre-programmed rules to mimic human expertise).  AI is rapidly evolving and impacting numerous aspects of life, from healthcare and finance to transportation and entertainment, presenting both immense opportunities and significant ethical considerations.' additional_kwargs={} response_metadata={'prompt_feedback': {'block_reason': 0, 'safety_ratings': []}, 'finish_reason': 'STOP', 'model_name': 'gemini-1.5-flash', 'safety_ratings': []} id='run--b1e7b54a-b942-4798-8468-5e44df74fde2-0' usage_metadata={'input_tokens': 11, 'output_tokens': 128, 'total_tokens': 139, 'input_token_details': {'cache_read': 0}}\n"
     ]
    }
   ],
   "source": [
    "print(\"Generated Blog Title: \", blog_title)"
   ]
  }
 ],
 "metadata": {
  "kernelspec": {
   "display_name": "langchain",
   "language": "python",
   "name": "python3"
  },
  "language_info": {
   "codemirror_mode": {
    "name": "ipython",
    "version": 3
   },
   "file_extension": ".py",
   "mimetype": "text/x-python",
   "name": "python",
   "nbconvert_exporter": "python",
   "pygments_lexer": "ipython3",
   "version": "3.12.11"
  }
 },
 "nbformat": 4,
 "nbformat_minor": 5
}
