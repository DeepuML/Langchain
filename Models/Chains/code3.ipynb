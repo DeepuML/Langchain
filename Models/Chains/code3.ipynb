{
 "cells": [
  {
   "cell_type": "code",
   "execution_count": 11,
   "id": "9bc3d846",
   "metadata": {},
   "outputs": [
    {
     "data": {
      "text/plain": [
       "True"
      ]
     },
     "execution_count": 11,
     "metadata": {},
     "output_type": "execute_result"
    }
   ],
   "source": [
    "from langchain_community.document_loaders import TextLoader\n",
    "from langchain_text_splitters import RecursiveCharacterTextSplitter\n",
    "from langchain_google_genai import GoogleGenerativeAIEmbeddings\n",
    "from langchain.vectorstores import FAISS\n",
    "from langchain_google_genai import ChatGoogleGenerativeAI\n",
    "from langchain.chains import RetrievalQA\n",
    "from dotenv import load_dotenv\n",
    "\n",
    "load_dotenv()"
   ]
  },
  {
   "cell_type": "code",
   "execution_count": 13,
   "id": "cb63268e",
   "metadata": {},
   "outputs": [],
   "source": [
    "document_laoder = TextLoader(\"1.text\")\n",
    "loader = document_laoder.load()"
   ]
  },
  {
   "cell_type": "code",
   "execution_count": 15,
   "id": "d0ded31e",
   "metadata": {},
   "outputs": [],
   "source": [
    "text_splitter = RecursiveCharacterTextSplitter(chunk_size=100, chunk_overlap=25)\n",
    "docs = text_splitter.split_documents(loader)"
   ]
  },
  {
   "cell_type": "code",
   "execution_count": null,
   "id": "5f9fe655",
   "metadata": {},
   "outputs": [],
   "source": [
    "embedding = GoogleGenerativeAIEmbeddings(model=\"models/embedding-001\")\n",
    "vector_DB = FAISS.from_documents(docs, embedding)"
   ]
  },
  {
   "cell_type": "code",
   "execution_count": 22,
   "id": "54c60fdd",
   "metadata": {},
   "outputs": [],
   "source": [
    "retriever = vector_DB.as_retriever()"
   ]
  },
  {
   "cell_type": "code",
   "execution_count": null,
   "id": "07fd41b8",
   "metadata": {},
   "outputs": [],
   "source": [
    "llm = ChatGoogleGenerativeAI(\n",
    "    model=\"gemini-1.5-flash\",\n",
    "    temperature=0.5,\n",
    "    max_tokens=4096,\n",
    ")"
   ]
  },
  {
   "cell_type": "code",
   "execution_count": 25,
   "id": "0e40556f",
   "metadata": {},
   "outputs": [],
   "source": [
    "qa_Chain = RetrievalQA.from_chain_type(llm = llm, retriever=retriever)"
   ]
  },
  {
   "cell_type": "code",
   "execution_count": 31,
   "id": "1fb8cd5a",
   "metadata": {},
   "outputs": [],
   "source": [
    "query= \"What is TOM ?.\""
   ]
  },
  {
   "cell_type": "code",
   "execution_count": 32,
   "id": "b7a27979",
   "metadata": {},
   "outputs": [
    {
     "name": "stderr",
     "output_type": "stream",
     "text": [
      "Retrying langchain_google_genai.chat_models._chat_with_retry.<locals>._chat_with_retry in 2.0 seconds as it raised InternalServerError: 500 Internal error encountered..\n"
     ]
    }
   ],
   "source": [
    "ans=qa_Chain.run(query)"
   ]
  },
  {
   "cell_type": "code",
   "execution_count": 33,
   "id": "f869ad5f",
   "metadata": {},
   "outputs": [
    {
     "name": "stdout",
     "output_type": "stream",
     "text": [
      "Answer:  Based on the provided text, Tom is a cat.\n"
     ]
    }
   ],
   "source": [
    "print(\"Answer: \", ans)"
   ]
  },
  {
   "cell_type": "code",
   "execution_count": null,
   "id": "47cba22a",
   "metadata": {},
   "outputs": [],
   "source": []
  }
 ],
 "metadata": {
  "kernelspec": {
   "display_name": "langchain",
   "language": "python",
   "name": "python3"
  },
  "language_info": {
   "codemirror_mode": {
    "name": "ipython",
    "version": 3
   },
   "file_extension": ".py",
   "mimetype": "text/x-python",
   "name": "python",
   "nbconvert_exporter": "python",
   "pygments_lexer": "ipython3",
   "version": "3.12.11"
  }
 },
 "nbformat": 4,
 "nbformat_minor": 5
}
