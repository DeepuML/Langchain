{
 "cells": [
  {
   "cell_type": "code",
   "execution_count": null,
   "id": "42f6cf85",
   "metadata": {},
   "outputs": [],
   "source": [
    "from langchain import OpenAI\n",
    "from dotenv import load_dotenv\n",
    "import os\n",
    "\n",
    "load_dotenv()\n",
    "llm = OpenAI(model=\"gpt-3.5-turbo\")\n",
    "result = llm.invoke(\"What is the capital of France?\")    \n",
    "print(result.response)  "
   ]
  },
  {
   "cell_type": "code",
   "execution_count": null,
   "id": "cfc65d40",
   "metadata": {},
   "outputs": [],
   "source": [
    "chat = llm.chat\n",
    "result = chat.invoke(\"What is the capital of France?\")"
   ]
  }
 ],
 "metadata": {
  "kernelspec": {
   "display_name": "langchain",
   "language": "python",
   "name": "python3"
  },
  "language_info": {
   "codemirror_mode": {
    "name": "ipython",
    "version": 3
   },
   "file_extension": ".py",
   "mimetype": "text/x-python",
   "name": "python",
   "nbconvert_exporter": "python",
   "pygments_lexer": "ipython3",
   "version": "3.12.11"
  }
 },
 "nbformat": 4,
 "nbformat_minor": 5
}
